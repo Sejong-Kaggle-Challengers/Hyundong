{
  "nbformat": 4,
  "nbformat_minor": 0,
  "metadata": {
    "colab": {
      "name": "[회귀]퇴근시간 버스승차인원 예측 경진대회.ipynb",
      "provenance": [],
      "collapsed_sections": [],
      "mount_file_id": "1w4O7RnEQz6CiOtcIvQ1l5Gi-QTyOcTtW",
      "authorship_tag": "ABX9TyNgp4QRNjC/diaw5yndidfM",
      "include_colab_link": true
    },
    "kernelspec": {
      "name": "python3",
      "display_name": "Python 3"
    }
  },
  "cells": [
    {
      "cell_type": "markdown",
      "metadata": {
        "id": "view-in-github",
        "colab_type": "text"
      },
      "source": [
        "<a href=\"https://colab.research.google.com/github/Sejong-Kaggle-Challengers/Hyundong/blob/main/%5B%ED%9A%8C%EA%B8%B0%5D%ED%87%B4%EA%B7%BC%EC%8B%9C%EA%B0%84_%EB%B2%84%EC%8A%A4%EC%8A%B9%EC%B0%A8%EC%9D%B8%EC%9B%90_%EC%98%88%EC%B8%A1_%EA%B2%BD%EC%A7%84%EB%8C%80%ED%9A%8C.ipynb\" target=\"_parent\"><img src=\"https://colab.research.google.com/assets/colab-badge.svg\" alt=\"Open In Colab\"/></a>"
      ]
    },
    {
      "cell_type": "code",
      "metadata": {
        "id": "97xl--h_9ONm"
      },
      "source": [
        "import numpy as np\r\n",
        "import pandas as pd"
      ],
      "execution_count": 2,
      "outputs": []
    },
    {
      "cell_type": "code",
      "metadata": {
        "id": "Ya4UdX0GFWtA"
      },
      "source": [
        "train=pd.read_csv(\"/content/drive/MyDrive/DACON/01.26 퇴근시간 버스승차인원 예측 경진대회/data/train.csv\")\r\n",
        "test=pd.read_csv(\"/content/drive/MyDrive/DACON/01.26 퇴근시간 버스승차인원 예측 경진대회/data/test.csv\")\r\n"
      ],
      "execution_count": 3,
      "outputs": []
    },
    {
      "cell_type": "code",
      "metadata": {
        "colab": {
          "base_uri": "https://localhost:8080/",
          "height": 316
        },
        "id": "5Fe7I3QgFnak",
        "outputId": "a14e12ca-4936-48ff-cb93-fe249eddc3e1"
      },
      "source": [
        "print(train.shape)\r\n",
        "train.head()"
      ],
      "execution_count": 9,
      "outputs": [
        {
          "output_type": "stream",
          "text": [
            "(415423, 21)\n"
          ],
          "name": "stdout"
        },
        {
          "output_type": "execute_result",
          "data": {
            "text/html": [
              "<div>\n",
              "<style scoped>\n",
              "    .dataframe tbody tr th:only-of-type {\n",
              "        vertical-align: middle;\n",
              "    }\n",
              "\n",
              "    .dataframe tbody tr th {\n",
              "        vertical-align: top;\n",
              "    }\n",
              "\n",
              "    .dataframe thead th {\n",
              "        text-align: right;\n",
              "    }\n",
              "</style>\n",
              "<table border=\"1\" class=\"dataframe\">\n",
              "  <thead>\n",
              "    <tr style=\"text-align: right;\">\n",
              "      <th></th>\n",
              "      <th>id</th>\n",
              "      <th>date</th>\n",
              "      <th>bus_route_id</th>\n",
              "      <th>in_out</th>\n",
              "      <th>station_code</th>\n",
              "      <th>station_name</th>\n",
              "      <th>latitude</th>\n",
              "      <th>longitude</th>\n",
              "      <th>6~7_ride</th>\n",
              "      <th>7~8_ride</th>\n",
              "      <th>8~9_ride</th>\n",
              "      <th>9~10_ride</th>\n",
              "      <th>10~11_ride</th>\n",
              "      <th>11~12_ride</th>\n",
              "      <th>6~7_takeoff</th>\n",
              "      <th>7~8_takeoff</th>\n",
              "      <th>8~9_takeoff</th>\n",
              "      <th>9~10_takeoff</th>\n",
              "      <th>10~11_takeoff</th>\n",
              "      <th>11~12_takeoff</th>\n",
              "      <th>18~20_ride</th>\n",
              "    </tr>\n",
              "  </thead>\n",
              "  <tbody>\n",
              "    <tr>\n",
              "      <th>0</th>\n",
              "      <td>0</td>\n",
              "      <td>2019-09-01</td>\n",
              "      <td>4270000</td>\n",
              "      <td>시외</td>\n",
              "      <td>344</td>\n",
              "      <td>제주썬호텔</td>\n",
              "      <td>33.48990</td>\n",
              "      <td>126.49373</td>\n",
              "      <td>0.0</td>\n",
              "      <td>1.0</td>\n",
              "      <td>2.0</td>\n",
              "      <td>5.0</td>\n",
              "      <td>2.0</td>\n",
              "      <td>6.0</td>\n",
              "      <td>0.0</td>\n",
              "      <td>0.0</td>\n",
              "      <td>0.0</td>\n",
              "      <td>0.0</td>\n",
              "      <td>0.0</td>\n",
              "      <td>0.0</td>\n",
              "      <td>0.0</td>\n",
              "    </tr>\n",
              "    <tr>\n",
              "      <th>1</th>\n",
              "      <td>1</td>\n",
              "      <td>2019-09-01</td>\n",
              "      <td>4270000</td>\n",
              "      <td>시외</td>\n",
              "      <td>357</td>\n",
              "      <td>한라병원</td>\n",
              "      <td>33.48944</td>\n",
              "      <td>126.48508</td>\n",
              "      <td>1.0</td>\n",
              "      <td>4.0</td>\n",
              "      <td>4.0</td>\n",
              "      <td>2.0</td>\n",
              "      <td>5.0</td>\n",
              "      <td>6.0</td>\n",
              "      <td>0.0</td>\n",
              "      <td>0.0</td>\n",
              "      <td>0.0</td>\n",
              "      <td>0.0</td>\n",
              "      <td>0.0</td>\n",
              "      <td>0.0</td>\n",
              "      <td>5.0</td>\n",
              "    </tr>\n",
              "    <tr>\n",
              "      <th>2</th>\n",
              "      <td>2</td>\n",
              "      <td>2019-09-01</td>\n",
              "      <td>4270000</td>\n",
              "      <td>시외</td>\n",
              "      <td>432</td>\n",
              "      <td>정존마을</td>\n",
              "      <td>33.48181</td>\n",
              "      <td>126.47352</td>\n",
              "      <td>1.0</td>\n",
              "      <td>1.0</td>\n",
              "      <td>0.0</td>\n",
              "      <td>2.0</td>\n",
              "      <td>0.0</td>\n",
              "      <td>0.0</td>\n",
              "      <td>0.0</td>\n",
              "      <td>0.0</td>\n",
              "      <td>0.0</td>\n",
              "      <td>0.0</td>\n",
              "      <td>0.0</td>\n",
              "      <td>0.0</td>\n",
              "      <td>2.0</td>\n",
              "    </tr>\n",
              "    <tr>\n",
              "      <th>3</th>\n",
              "      <td>3</td>\n",
              "      <td>2019-09-01</td>\n",
              "      <td>4270000</td>\n",
              "      <td>시내</td>\n",
              "      <td>1579</td>\n",
              "      <td>제주국제공항(600번)</td>\n",
              "      <td>33.50577</td>\n",
              "      <td>126.49252</td>\n",
              "      <td>0.0</td>\n",
              "      <td>17.0</td>\n",
              "      <td>6.0</td>\n",
              "      <td>26.0</td>\n",
              "      <td>14.0</td>\n",
              "      <td>16.0</td>\n",
              "      <td>0.0</td>\n",
              "      <td>0.0</td>\n",
              "      <td>0.0</td>\n",
              "      <td>0.0</td>\n",
              "      <td>0.0</td>\n",
              "      <td>0.0</td>\n",
              "      <td>53.0</td>\n",
              "    </tr>\n",
              "    <tr>\n",
              "      <th>4</th>\n",
              "      <td>4</td>\n",
              "      <td>2019-09-01</td>\n",
              "      <td>4270000</td>\n",
              "      <td>시내</td>\n",
              "      <td>1646</td>\n",
              "      <td>중문관광단지입구</td>\n",
              "      <td>33.25579</td>\n",
              "      <td>126.41260</td>\n",
              "      <td>0.0</td>\n",
              "      <td>0.0</td>\n",
              "      <td>0.0</td>\n",
              "      <td>0.0</td>\n",
              "      <td>0.0</td>\n",
              "      <td>0.0</td>\n",
              "      <td>0.0</td>\n",
              "      <td>0.0</td>\n",
              "      <td>0.0</td>\n",
              "      <td>1.0</td>\n",
              "      <td>0.0</td>\n",
              "      <td>0.0</td>\n",
              "      <td>0.0</td>\n",
              "    </tr>\n",
              "  </tbody>\n",
              "</table>\n",
              "</div>"
            ],
            "text/plain": [
              "   id        date  bus_route_id  ... 10~11_takeoff  11~12_takeoff 18~20_ride\n",
              "0   0  2019-09-01       4270000  ...           0.0            0.0        0.0\n",
              "1   1  2019-09-01       4270000  ...           0.0            0.0        5.0\n",
              "2   2  2019-09-01       4270000  ...           0.0            0.0        2.0\n",
              "3   3  2019-09-01       4270000  ...           0.0            0.0       53.0\n",
              "4   4  2019-09-01       4270000  ...           0.0            0.0        0.0\n",
              "\n",
              "[5 rows x 21 columns]"
            ]
          },
          "metadata": {
            "tags": []
          },
          "execution_count": 9
        }
      ]
    },
    {
      "cell_type": "code",
      "metadata": {
        "colab": {
          "base_uri": "https://localhost:8080/",
          "height": 316
        },
        "id": "ZkDut9WcFxTr",
        "outputId": "fe6f4472-2542-4fe5-c5b3-a696ec98604b"
      },
      "source": [
        "print(test.shape)\r\n",
        "test.head()"
      ],
      "execution_count": 10,
      "outputs": [
        {
          "output_type": "stream",
          "text": [
            "(228170, 20)\n"
          ],
          "name": "stdout"
        },
        {
          "output_type": "execute_result",
          "data": {
            "text/html": [
              "<div>\n",
              "<style scoped>\n",
              "    .dataframe tbody tr th:only-of-type {\n",
              "        vertical-align: middle;\n",
              "    }\n",
              "\n",
              "    .dataframe tbody tr th {\n",
              "        vertical-align: top;\n",
              "    }\n",
              "\n",
              "    .dataframe thead th {\n",
              "        text-align: right;\n",
              "    }\n",
              "</style>\n",
              "<table border=\"1\" class=\"dataframe\">\n",
              "  <thead>\n",
              "    <tr style=\"text-align: right;\">\n",
              "      <th></th>\n",
              "      <th>id</th>\n",
              "      <th>date</th>\n",
              "      <th>bus_route_id</th>\n",
              "      <th>in_out</th>\n",
              "      <th>station_code</th>\n",
              "      <th>station_name</th>\n",
              "      <th>latitude</th>\n",
              "      <th>longitude</th>\n",
              "      <th>6~7_ride</th>\n",
              "      <th>7~8_ride</th>\n",
              "      <th>8~9_ride</th>\n",
              "      <th>9~10_ride</th>\n",
              "      <th>10~11_ride</th>\n",
              "      <th>11~12_ride</th>\n",
              "      <th>6~7_takeoff</th>\n",
              "      <th>7~8_takeoff</th>\n",
              "      <th>8~9_takeoff</th>\n",
              "      <th>9~10_takeoff</th>\n",
              "      <th>10~11_takeoff</th>\n",
              "      <th>11~12_takeoff</th>\n",
              "    </tr>\n",
              "  </thead>\n",
              "  <tbody>\n",
              "    <tr>\n",
              "      <th>0</th>\n",
              "      <td>415423</td>\n",
              "      <td>2019-10-01</td>\n",
              "      <td>4270000</td>\n",
              "      <td>시외</td>\n",
              "      <td>344</td>\n",
              "      <td>제주썬호텔</td>\n",
              "      <td>33.48990</td>\n",
              "      <td>126.49373</td>\n",
              "      <td>4.0</td>\n",
              "      <td>4.0</td>\n",
              "      <td>7.0</td>\n",
              "      <td>2.0</td>\n",
              "      <td>9.0</td>\n",
              "      <td>1.0</td>\n",
              "      <td>0.0</td>\n",
              "      <td>0.0</td>\n",
              "      <td>0.0</td>\n",
              "      <td>0.0</td>\n",
              "      <td>0.0</td>\n",
              "      <td>1.0</td>\n",
              "    </tr>\n",
              "    <tr>\n",
              "      <th>1</th>\n",
              "      <td>415424</td>\n",
              "      <td>2019-10-01</td>\n",
              "      <td>4270000</td>\n",
              "      <td>시외</td>\n",
              "      <td>357</td>\n",
              "      <td>한라병원</td>\n",
              "      <td>33.48944</td>\n",
              "      <td>126.48508</td>\n",
              "      <td>1.0</td>\n",
              "      <td>6.0</td>\n",
              "      <td>6.0</td>\n",
              "      <td>1.0</td>\n",
              "      <td>8.0</td>\n",
              "      <td>11.0</td>\n",
              "      <td>0.0</td>\n",
              "      <td>0.0</td>\n",
              "      <td>0.0</td>\n",
              "      <td>0.0</td>\n",
              "      <td>0.0</td>\n",
              "      <td>0.0</td>\n",
              "    </tr>\n",
              "    <tr>\n",
              "      <th>2</th>\n",
              "      <td>415425</td>\n",
              "      <td>2019-10-01</td>\n",
              "      <td>4270000</td>\n",
              "      <td>시외</td>\n",
              "      <td>432</td>\n",
              "      <td>정존마을</td>\n",
              "      <td>33.48181</td>\n",
              "      <td>126.47352</td>\n",
              "      <td>2.0</td>\n",
              "      <td>4.0</td>\n",
              "      <td>2.0</td>\n",
              "      <td>2.0</td>\n",
              "      <td>2.0</td>\n",
              "      <td>1.0</td>\n",
              "      <td>0.0</td>\n",
              "      <td>0.0</td>\n",
              "      <td>0.0</td>\n",
              "      <td>0.0</td>\n",
              "      <td>0.0</td>\n",
              "      <td>0.0</td>\n",
              "    </tr>\n",
              "    <tr>\n",
              "      <th>3</th>\n",
              "      <td>415426</td>\n",
              "      <td>2019-10-01</td>\n",
              "      <td>4270000</td>\n",
              "      <td>시내</td>\n",
              "      <td>1579</td>\n",
              "      <td>제주국제공항(600번)</td>\n",
              "      <td>33.50577</td>\n",
              "      <td>126.49252</td>\n",
              "      <td>1.0</td>\n",
              "      <td>11.0</td>\n",
              "      <td>18.0</td>\n",
              "      <td>8.0</td>\n",
              "      <td>26.0</td>\n",
              "      <td>20.0</td>\n",
              "      <td>0.0</td>\n",
              "      <td>0.0</td>\n",
              "      <td>0.0</td>\n",
              "      <td>0.0</td>\n",
              "      <td>0.0</td>\n",
              "      <td>0.0</td>\n",
              "    </tr>\n",
              "    <tr>\n",
              "      <th>4</th>\n",
              "      <td>415427</td>\n",
              "      <td>2019-10-01</td>\n",
              "      <td>4270000</td>\n",
              "      <td>시내</td>\n",
              "      <td>1636</td>\n",
              "      <td>롯데호텔</td>\n",
              "      <td>33.24872</td>\n",
              "      <td>126.41032</td>\n",
              "      <td>0.0</td>\n",
              "      <td>0.0</td>\n",
              "      <td>0.0</td>\n",
              "      <td>0.0</td>\n",
              "      <td>0.0</td>\n",
              "      <td>0.0</td>\n",
              "      <td>0.0</td>\n",
              "      <td>0.0</td>\n",
              "      <td>0.0</td>\n",
              "      <td>1.0</td>\n",
              "      <td>0.0</td>\n",
              "      <td>0.0</td>\n",
              "    </tr>\n",
              "  </tbody>\n",
              "</table>\n",
              "</div>"
            ],
            "text/plain": [
              "       id        date  bus_route_id  ... 9~10_takeoff  10~11_takeoff 11~12_takeoff\n",
              "0  415423  2019-10-01       4270000  ...          0.0            0.0           1.0\n",
              "1  415424  2019-10-01       4270000  ...          0.0            0.0           0.0\n",
              "2  415425  2019-10-01       4270000  ...          0.0            0.0           0.0\n",
              "3  415426  2019-10-01       4270000  ...          0.0            0.0           0.0\n",
              "4  415427  2019-10-01       4270000  ...          1.0            0.0           0.0\n",
              "\n",
              "[5 rows x 20 columns]"
            ]
          },
          "metadata": {
            "tags": []
          },
          "execution_count": 10
        }
      ]
    },
    {
      "cell_type": "code",
      "metadata": {
        "colab": {
          "base_uri": "https://localhost:8080/"
        },
        "id": "oVLS4go1F197",
        "outputId": "fd7c543b-9c27-48cd-9404-5f4fae2cd527"
      },
      "source": [
        "train.info()"
      ],
      "execution_count": 13,
      "outputs": [
        {
          "output_type": "stream",
          "text": [
            "<class 'pandas.core.frame.DataFrame'>\n",
            "RangeIndex: 415423 entries, 0 to 415422\n",
            "Data columns (total 21 columns):\n",
            " #   Column         Non-Null Count   Dtype  \n",
            "---  ------         --------------   -----  \n",
            " 0   id             415423 non-null  int64  \n",
            " 1   date           415423 non-null  object \n",
            " 2   bus_route_id   415423 non-null  int64  \n",
            " 3   in_out         415423 non-null  object \n",
            " 4   station_code   415423 non-null  int64  \n",
            " 5   station_name   415423 non-null  object \n",
            " 6   latitude       415423 non-null  float64\n",
            " 7   longitude      415423 non-null  float64\n",
            " 8   6~7_ride       415423 non-null  float64\n",
            " 9   7~8_ride       415423 non-null  float64\n",
            " 10  8~9_ride       415423 non-null  float64\n",
            " 11  9~10_ride      415423 non-null  float64\n",
            " 12  10~11_ride     415423 non-null  float64\n",
            " 13  11~12_ride     415423 non-null  float64\n",
            " 14  6~7_takeoff    415423 non-null  float64\n",
            " 15  7~8_takeoff    415423 non-null  float64\n",
            " 16  8~9_takeoff    415423 non-null  float64\n",
            " 17  9~10_takeoff   415423 non-null  float64\n",
            " 18  10~11_takeoff  415423 non-null  float64\n",
            " 19  11~12_takeoff  415423 non-null  float64\n",
            " 20  18~20_ride     415423 non-null  float64\n",
            "dtypes: float64(15), int64(3), object(3)\n",
            "memory usage: 66.6+ MB\n"
          ],
          "name": "stdout"
        }
      ]
    },
    {
      "cell_type": "code",
      "metadata": {
        "colab": {
          "base_uri": "https://localhost:8080/"
        },
        "id": "bFedCl_HF4ew",
        "outputId": "4d442840-1e5f-467c-a443-f5b8adcc0a1b"
      },
      "source": [
        "test.info()"
      ],
      "execution_count": 14,
      "outputs": [
        {
          "output_type": "stream",
          "text": [
            "<class 'pandas.core.frame.DataFrame'>\n",
            "RangeIndex: 228170 entries, 0 to 228169\n",
            "Data columns (total 20 columns):\n",
            " #   Column         Non-Null Count   Dtype  \n",
            "---  ------         --------------   -----  \n",
            " 0   id             228170 non-null  int64  \n",
            " 1   date           228170 non-null  object \n",
            " 2   bus_route_id   228170 non-null  int64  \n",
            " 3   in_out         228170 non-null  object \n",
            " 4   station_code   228170 non-null  int64  \n",
            " 5   station_name   228170 non-null  object \n",
            " 6   latitude       228170 non-null  float64\n",
            " 7   longitude      228170 non-null  float64\n",
            " 8   6~7_ride       228170 non-null  float64\n",
            " 9   7~8_ride       228170 non-null  float64\n",
            " 10  8~9_ride       228170 non-null  float64\n",
            " 11  9~10_ride      228170 non-null  float64\n",
            " 12  10~11_ride     228170 non-null  float64\n",
            " 13  11~12_ride     228170 non-null  float64\n",
            " 14  6~7_takeoff    228170 non-null  float64\n",
            " 15  7~8_takeoff    228170 non-null  float64\n",
            " 16  8~9_takeoff    228170 non-null  float64\n",
            " 17  9~10_takeoff   228170 non-null  float64\n",
            " 18  10~11_takeoff  228170 non-null  float64\n",
            " 19  11~12_takeoff  228170 non-null  float64\n",
            "dtypes: float64(14), int64(3), object(3)\n",
            "memory usage: 34.8+ MB\n"
          ],
          "name": "stdout"
        }
      ]
    },
    {
      "cell_type": "markdown",
      "metadata": {
        "id": "U9RTg5iwGgkR"
      },
      "source": [
        "- id : 해당 데이터에서의 고유한 ID(train, test와의 중복은 없음)\r\n",
        "- date : 날짜\r\n",
        "- bus_route_id : 노선ID\r\n",
        "- in_out : 시내버스, 시외버스 구분\r\n",
        "- station_code : 해당 승하차 정류소의 ID\r\n",
        "- station_name : 해당 승하차 정류소의 이름\r\n",
        "- latitude : 해당 버스 정류장의 위도 (같은 정류장 이름이어도 버스의 진행 방향에 따라 다를 수 있음)\r\n",
        "- longitude : 해당 버스 정류장의 경도 (같은 정류장 이름이어도 버스의 진행 방향에 따라 다를 수 있음)\r\n",
        "- X~Y_ride : X:00:00부터 X:59:59까지 승차한 인원 수\r\n",
        "- X~Y_takeoff : X:00:00부터 X:59:59까지 하차한 인원 수\r\n",
        "- 18~20_ride : 18:00:00부터 19:59:59까지 승차한 인원 수 (train data에만 존재)"
      ]
    },
    {
      "cell_type": "markdown",
      "metadata": {
        "id": "QHNw3ZQAO8IU"
      },
      "source": [
        "date, in_out을 학습 데이터로 변환"
      ]
    },
    {
      "cell_type": "markdown",
      "metadata": {
        "id": "7LQ21Xk5mETU"
      },
      "source": [
        "### pd.DataFrame.describe()\r\n",
        "- 숫자형 (int, float) column들의 기술 통계량을 보여주는 함수\r\n",
        "\r\n",
        "- 기술통계량이란?\r\n",
        " - 해당 column을 대표할 수 있는 통계값들을 의미\r\n",
        " \r\n",
        " \r\n",
        "- 기술통계량 종류\r\n",
        " - count: 해당 column에서 비어 있지 않은 값의 개수\r\n",
        " - mean: 평균\r\n",
        " - std: 표준편차\r\n",
        " - min: 최솟값 (이상치 포함)\r\n",
        " - 25% (Q1): 전체 데이터를 순서대로 정렬했을 때, 아래에서 부터 1/4번째 지점에 있는 값\r\n",
        " - 50% (Q2): 중앙값 (전체 데이터를 순서대로 정렬했을 때, 아래에서 부터 2/4번째 지점에 있는 값)\r\n",
        " - 75% (Q3): 전체 데이터를 순서대로 정렬했을 때, 아래에서 부터 3/4번째 지점에 있는 값\r\n",
        " - max: 최댓값 (이상치 포함) \r\n",
        " \r\n",
        " \r\n",
        " \r\n",
        "- 이상치: 울타리 밖에 있는 부분을 이상치라고 정의함\r\n",
        "   - 아래쪽 울타리: $Q_1$ - $1.5 * IQR$\r\n",
        "   - 위쪽 울타리: $Q_3$ + $1.5 * IQR$\r\n",
        "   - $IQR$ = $Q_3 - Q_1$\r\n",
        " \r\n",
        " \r\n",
        "<img src=\"https://miro.medium.com/max/10125/1*NRlqiZGQdsIyAu0KzP7LaQ.png\" width=\"700\" height=\"500\">"
      ]
    },
    {
      "cell_type": "code",
      "metadata": {
        "colab": {
          "base_uri": "https://localhost:8080/",
          "height": 303
        },
        "id": "dyh7mnY2GHDL",
        "outputId": "de17ca2e-b5ff-4c0c-dc8c-df978d16086f"
      },
      "source": [
        "train.describe()"
      ],
      "execution_count": 27,
      "outputs": [
        {
          "output_type": "execute_result",
          "data": {
            "text/html": [
              "<div>\n",
              "<style scoped>\n",
              "    .dataframe tbody tr th:only-of-type {\n",
              "        vertical-align: middle;\n",
              "    }\n",
              "\n",
              "    .dataframe tbody tr th {\n",
              "        vertical-align: top;\n",
              "    }\n",
              "\n",
              "    .dataframe thead th {\n",
              "        text-align: right;\n",
              "    }\n",
              "</style>\n",
              "<table border=\"1\" class=\"dataframe\">\n",
              "  <thead>\n",
              "    <tr style=\"text-align: right;\">\n",
              "      <th></th>\n",
              "      <th>id</th>\n",
              "      <th>bus_route_id</th>\n",
              "      <th>in_out</th>\n",
              "      <th>station_code</th>\n",
              "      <th>latitude</th>\n",
              "      <th>longitude</th>\n",
              "      <th>6~7_ride</th>\n",
              "      <th>7~8_ride</th>\n",
              "      <th>8~9_ride</th>\n",
              "      <th>9~10_ride</th>\n",
              "      <th>10~11_ride</th>\n",
              "      <th>11~12_ride</th>\n",
              "      <th>6~7_takeoff</th>\n",
              "      <th>7~8_takeoff</th>\n",
              "      <th>8~9_takeoff</th>\n",
              "      <th>9~10_takeoff</th>\n",
              "      <th>10~11_takeoff</th>\n",
              "      <th>11~12_takeoff</th>\n",
              "      <th>18~20_ride</th>\n",
              "      <th>date_weekday</th>\n",
              "    </tr>\n",
              "  </thead>\n",
              "  <tbody>\n",
              "    <tr>\n",
              "      <th>count</th>\n",
              "      <td>415423.000000</td>\n",
              "      <td>4.154230e+05</td>\n",
              "      <td>415423.000000</td>\n",
              "      <td>4.154230e+05</td>\n",
              "      <td>415423.000000</td>\n",
              "      <td>415423.000000</td>\n",
              "      <td>415423.000000</td>\n",
              "      <td>415423.000000</td>\n",
              "      <td>415423.000000</td>\n",
              "      <td>415423.000000</td>\n",
              "      <td>415423.000000</td>\n",
              "      <td>415423.000000</td>\n",
              "      <td>415423.000000</td>\n",
              "      <td>415423.000000</td>\n",
              "      <td>415423.000000</td>\n",
              "      <td>415423.000000</td>\n",
              "      <td>415423.000000</td>\n",
              "      <td>415423.000000</td>\n",
              "      <td>415423.000000</td>\n",
              "      <td>415423.000000</td>\n",
              "    </tr>\n",
              "    <tr>\n",
              "      <th>mean</th>\n",
              "      <td>207711.000000</td>\n",
              "      <td>2.691935e+07</td>\n",
              "      <td>0.016665</td>\n",
              "      <td>4.209311e+04</td>\n",
              "      <td>33.420375</td>\n",
              "      <td>126.533574</td>\n",
              "      <td>0.305893</td>\n",
              "      <td>0.829699</td>\n",
              "      <td>0.815350</td>\n",
              "      <td>0.642475</td>\n",
              "      <td>0.599618</td>\n",
              "      <td>0.579393</td>\n",
              "      <td>0.112870</td>\n",
              "      <td>0.344870</td>\n",
              "      <td>0.516481</td>\n",
              "      <td>0.430922</td>\n",
              "      <td>0.408001</td>\n",
              "      <td>0.402874</td>\n",
              "      <td>1.242095</td>\n",
              "      <td>2.719349</td>\n",
              "    </tr>\n",
              "    <tr>\n",
              "      <th>std</th>\n",
              "      <td>119922.434776</td>\n",
              "      <td>3.924652e+06</td>\n",
              "      <td>0.128013</td>\n",
              "      <td>4.971504e+05</td>\n",
              "      <td>0.107996</td>\n",
              "      <td>0.140986</td>\n",
              "      <td>1.109766</td>\n",
              "      <td>2.255116</td>\n",
              "      <td>2.317561</td>\n",
              "      <td>1.959844</td>\n",
              "      <td>1.885941</td>\n",
              "      <td>1.942137</td>\n",
              "      <td>0.597714</td>\n",
              "      <td>1.279179</td>\n",
              "      <td>1.658850</td>\n",
              "      <td>1.485124</td>\n",
              "      <td>1.412839</td>\n",
              "      <td>1.446080</td>\n",
              "      <td>4.722287</td>\n",
              "      <td>2.017205</td>\n",
              "    </tr>\n",
              "    <tr>\n",
              "      <th>min</th>\n",
              "      <td>0.000000</td>\n",
              "      <td>4.270000e+06</td>\n",
              "      <td>0.000000</td>\n",
              "      <td>1.000000e+00</td>\n",
              "      <td>33.208350</td>\n",
              "      <td>126.165040</td>\n",
              "      <td>0.000000</td>\n",
              "      <td>0.000000</td>\n",
              "      <td>0.000000</td>\n",
              "      <td>0.000000</td>\n",
              "      <td>0.000000</td>\n",
              "      <td>0.000000</td>\n",
              "      <td>0.000000</td>\n",
              "      <td>0.000000</td>\n",
              "      <td>0.000000</td>\n",
              "      <td>0.000000</td>\n",
              "      <td>0.000000</td>\n",
              "      <td>0.000000</td>\n",
              "      <td>0.000000</td>\n",
              "      <td>0.000000</td>\n",
              "    </tr>\n",
              "    <tr>\n",
              "      <th>25%</th>\n",
              "      <td>103855.500000</td>\n",
              "      <td>2.346000e+07</td>\n",
              "      <td>0.000000</td>\n",
              "      <td>3.200000e+02</td>\n",
              "      <td>33.291080</td>\n",
              "      <td>126.475780</td>\n",
              "      <td>0.000000</td>\n",
              "      <td>0.000000</td>\n",
              "      <td>0.000000</td>\n",
              "      <td>0.000000</td>\n",
              "      <td>0.000000</td>\n",
              "      <td>0.000000</td>\n",
              "      <td>0.000000</td>\n",
              "      <td>0.000000</td>\n",
              "      <td>0.000000</td>\n",
              "      <td>0.000000</td>\n",
              "      <td>0.000000</td>\n",
              "      <td>0.000000</td>\n",
              "      <td>0.000000</td>\n",
              "      <td>1.000000</td>\n",
              "    </tr>\n",
              "    <tr>\n",
              "      <th>50%</th>\n",
              "      <td>207711.000000</td>\n",
              "      <td>2.803000e+07</td>\n",
              "      <td>0.000000</td>\n",
              "      <td>1.130000e+03</td>\n",
              "      <td>33.478850</td>\n",
              "      <td>126.529770</td>\n",
              "      <td>0.000000</td>\n",
              "      <td>0.000000</td>\n",
              "      <td>0.000000</td>\n",
              "      <td>0.000000</td>\n",
              "      <td>0.000000</td>\n",
              "      <td>0.000000</td>\n",
              "      <td>0.000000</td>\n",
              "      <td>0.000000</td>\n",
              "      <td>0.000000</td>\n",
              "      <td>0.000000</td>\n",
              "      <td>0.000000</td>\n",
              "      <td>0.000000</td>\n",
              "      <td>0.000000</td>\n",
              "      <td>3.000000</td>\n",
              "    </tr>\n",
              "    <tr>\n",
              "      <th>75%</th>\n",
              "      <td>311566.500000</td>\n",
              "      <td>3.003000e+07</td>\n",
              "      <td>0.000000</td>\n",
              "      <td>2.226000e+03</td>\n",
              "      <td>33.500020</td>\n",
              "      <td>126.575890</td>\n",
              "      <td>0.000000</td>\n",
              "      <td>1.000000</td>\n",
              "      <td>1.000000</td>\n",
              "      <td>1.000000</td>\n",
              "      <td>0.000000</td>\n",
              "      <td>0.000000</td>\n",
              "      <td>0.000000</td>\n",
              "      <td>0.000000</td>\n",
              "      <td>0.000000</td>\n",
              "      <td>0.000000</td>\n",
              "      <td>0.000000</td>\n",
              "      <td>0.000000</td>\n",
              "      <td>1.000000</td>\n",
              "      <td>4.000000</td>\n",
              "    </tr>\n",
              "    <tr>\n",
              "      <th>max</th>\n",
              "      <td>415422.000000</td>\n",
              "      <td>3.282000e+07</td>\n",
              "      <td>1.000000</td>\n",
              "      <td>6.115101e+06</td>\n",
              "      <td>33.963640</td>\n",
              "      <td>126.965670</td>\n",
              "      <td>85.000000</td>\n",
              "      <td>94.000000</td>\n",
              "      <td>136.000000</td>\n",
              "      <td>78.000000</td>\n",
              "      <td>124.000000</td>\n",
              "      <td>99.000000</td>\n",
              "      <td>45.000000</td>\n",
              "      <td>66.000000</td>\n",
              "      <td>59.000000</td>\n",
              "      <td>65.000000</td>\n",
              "      <td>52.000000</td>\n",
              "      <td>81.000000</td>\n",
              "      <td>272.000000</td>\n",
              "      <td>6.000000</td>\n",
              "    </tr>\n",
              "  </tbody>\n",
              "</table>\n",
              "</div>"
            ],
            "text/plain": [
              "                  id  bus_route_id  ...     18~20_ride   date_weekday\n",
              "count  415423.000000  4.154230e+05  ...  415423.000000  415423.000000\n",
              "mean   207711.000000  2.691935e+07  ...       1.242095       2.719349\n",
              "std    119922.434776  3.924652e+06  ...       4.722287       2.017205\n",
              "min         0.000000  4.270000e+06  ...       0.000000       0.000000\n",
              "25%    103855.500000  2.346000e+07  ...       0.000000       1.000000\n",
              "50%    207711.000000  2.803000e+07  ...       0.000000       3.000000\n",
              "75%    311566.500000  3.003000e+07  ...       1.000000       4.000000\n",
              "max    415422.000000  3.282000e+07  ...     272.000000       6.000000\n",
              "\n",
              "[8 rows x 20 columns]"
            ]
          },
          "metadata": {
            "tags": []
          },
          "execution_count": 27
        }
      ]
    },
    {
      "cell_type": "code",
      "metadata": {
        "colab": {
          "base_uri": "https://localhost:8080/"
        },
        "id": "_829xxy8I6p8",
        "outputId": "a619bf32-73f1-44de-e5c2-e40aafcf393c"
      },
      "source": [
        "len(train['bus_route_id'].unique())\r\n"
      ],
      "execution_count": 16,
      "outputs": [
        {
          "output_type": "execute_result",
          "data": {
            "text/plain": [
              "613"
            ]
          },
          "metadata": {
            "tags": []
          },
          "execution_count": 16
        }
      ]
    },
    {
      "cell_type": "code",
      "metadata": {
        "colab": {
          "base_uri": "https://localhost:8080/",
          "height": 401
        },
        "id": "V_wOSucNJh3T",
        "outputId": "70d5ae10-30d8-444f-d2c8-ed6bfd97aefc"
      },
      "source": [
        "train[['bus_route_id', 'station_code']]"
      ],
      "execution_count": 19,
      "outputs": [
        {
          "output_type": "execute_result",
          "data": {
            "text/html": [
              "<div>\n",
              "<style scoped>\n",
              "    .dataframe tbody tr th:only-of-type {\n",
              "        vertical-align: middle;\n",
              "    }\n",
              "\n",
              "    .dataframe tbody tr th {\n",
              "        vertical-align: top;\n",
              "    }\n",
              "\n",
              "    .dataframe thead th {\n",
              "        text-align: right;\n",
              "    }\n",
              "</style>\n",
              "<table border=\"1\" class=\"dataframe\">\n",
              "  <thead>\n",
              "    <tr style=\"text-align: right;\">\n",
              "      <th></th>\n",
              "      <th>bus_route_id</th>\n",
              "      <th>station_code</th>\n",
              "    </tr>\n",
              "  </thead>\n",
              "  <tbody>\n",
              "    <tr>\n",
              "      <th>0</th>\n",
              "      <td>4270000</td>\n",
              "      <td>344</td>\n",
              "    </tr>\n",
              "    <tr>\n",
              "      <th>1</th>\n",
              "      <td>4270000</td>\n",
              "      <td>357</td>\n",
              "    </tr>\n",
              "    <tr>\n",
              "      <th>2</th>\n",
              "      <td>4270000</td>\n",
              "      <td>432</td>\n",
              "    </tr>\n",
              "    <tr>\n",
              "      <th>3</th>\n",
              "      <td>4270000</td>\n",
              "      <td>1579</td>\n",
              "    </tr>\n",
              "    <tr>\n",
              "      <th>4</th>\n",
              "      <td>4270000</td>\n",
              "      <td>1646</td>\n",
              "    </tr>\n",
              "    <tr>\n",
              "      <th>...</th>\n",
              "      <td>...</td>\n",
              "      <td>...</td>\n",
              "    </tr>\n",
              "    <tr>\n",
              "      <th>415418</th>\n",
              "      <td>32820000</td>\n",
              "      <td>1129</td>\n",
              "    </tr>\n",
              "    <tr>\n",
              "      <th>415419</th>\n",
              "      <td>32820000</td>\n",
              "      <td>1564</td>\n",
              "    </tr>\n",
              "    <tr>\n",
              "      <th>415420</th>\n",
              "      <td>32820000</td>\n",
              "      <td>2322</td>\n",
              "    </tr>\n",
              "    <tr>\n",
              "      <th>415421</th>\n",
              "      <td>32820000</td>\n",
              "      <td>3291</td>\n",
              "    </tr>\n",
              "    <tr>\n",
              "      <th>415422</th>\n",
              "      <td>32820000</td>\n",
              "      <td>6115100</td>\n",
              "    </tr>\n",
              "  </tbody>\n",
              "</table>\n",
              "<p>415423 rows × 2 columns</p>\n",
              "</div>"
            ],
            "text/plain": [
              "        bus_route_id  station_code\n",
              "0            4270000           344\n",
              "1            4270000           357\n",
              "2            4270000           432\n",
              "3            4270000          1579\n",
              "4            4270000          1646\n",
              "...              ...           ...\n",
              "415418      32820000          1129\n",
              "415419      32820000          1564\n",
              "415420      32820000          2322\n",
              "415421      32820000          3291\n",
              "415422      32820000       6115100\n",
              "\n",
              "[415423 rows x 2 columns]"
            ]
          },
          "metadata": {
            "tags": []
          },
          "execution_count": 19
        }
      ]
    },
    {
      "cell_type": "markdown",
      "metadata": {
        "id": "xCx3DE3UmOXS"
      },
      "source": [
        "# 데이터 전처리"
      ]
    },
    {
      "cell_type": "code",
      "metadata": {
        "id": "u5D8QTTamTDe"
      },
      "source": [
        "# Object -> datetime64\r\n",
        "\r\n",
        "train['date'] = pd.to_datetime(train['date'], errors='raise')\r\n",
        "test['date'] = pd.to_datetime(test['date'], errors='raise')\r\n",
        "train['date_weekday'] = train['date'].dt.weekday\r\n",
        "test['date_weekday'] = test['date'].dt.weekday\r\n",
        "\r\n",
        "# 0: 월 1: 화 ,,, 6: 일"
      ],
      "execution_count": 31,
      "outputs": []
    },
    {
      "cell_type": "code",
      "metadata": {
        "colab": {
          "base_uri": "https://localhost:8080/"
        },
        "id": "faDlpX62nZ4V",
        "outputId": "5954b71f-7972-4b9e-92db-4998768b38d7"
      },
      "source": [
        "train['date'].head()"
      ],
      "execution_count": 22,
      "outputs": [
        {
          "output_type": "execute_result",
          "data": {
            "text/plain": [
              "0   2019-09-01\n",
              "1   2019-09-01\n",
              "2   2019-09-01\n",
              "3   2019-09-01\n",
              "4   2019-09-01\n",
              "Name: date, dtype: datetime64[ns]"
            ]
          },
          "metadata": {
            "tags": []
          },
          "execution_count": 22
        }
      ]
    },
    {
      "cell_type": "code",
      "metadata": {
        "colab": {
          "base_uri": "https://localhost:8080/"
        },
        "id": "PxpViCN0ndPl",
        "outputId": "a8f6ffa9-654c-4ad7-d407-ebdc83b6446d"
      },
      "source": [
        "train['date_weekday'].head()"
      ],
      "execution_count": 23,
      "outputs": [
        {
          "output_type": "execute_result",
          "data": {
            "text/plain": [
              "0    6\n",
              "1    6\n",
              "2    6\n",
              "3    6\n",
              "4    6\n",
              "Name: date_weekday, dtype: int64"
            ]
          },
          "metadata": {
            "tags": []
          },
          "execution_count": 23
        }
      ]
    },
    {
      "cell_type": "code",
      "metadata": {
        "colab": {
          "base_uri": "https://localhost:8080/"
        },
        "id": "y7hPC054oKPA",
        "outputId": "c724fd0e-ecfd-4f62-8269-6c486f1b196d"
      },
      "source": [
        "\r\n",
        "#in_out 숫자로 변경 (시외 : 1, 시내 : 0)\r\n",
        "from sklearn.preprocessing import LabelEncoder\r\n",
        "le = LabelEncoder()\r\n",
        "train['in_out'] = le.fit_transform(train['in_out'])\r\n",
        "test['in_out'] = le.transform(test['in_out'])\r\n",
        "train['in_out']"
      ],
      "execution_count": 24,
      "outputs": [
        {
          "output_type": "execute_result",
          "data": {
            "text/plain": [
              "0         1\n",
              "1         1\n",
              "2         1\n",
              "3         0\n",
              "4         0\n",
              "         ..\n",
              "415418    0\n",
              "415419    0\n",
              "415420    0\n",
              "415421    0\n",
              "415422    0\n",
              "Name: in_out, Length: 415423, dtype: int64"
            ]
          },
          "metadata": {
            "tags": []
          },
          "execution_count": 24
        }
      ]
    },
    {
      "cell_type": "markdown",
      "metadata": {
        "id": "A4iOYXftmQY7"
      },
      "source": [
        "# 학습"
      ]
    },
    {
      "cell_type": "code",
      "metadata": {
        "id": "jfN3EVhbJ9os"
      },
      "source": [
        "from sklearn.ensemble import RandomForestRegressor\r\n",
        "from sklearn.linear_model import LinearRegression\r\n",
        "import lightgbm as lgb\r\n"
      ],
      "execution_count": 25,
      "outputs": []
    },
    {
      "cell_type": "markdown",
      "metadata": {
        "id": "i5J8BErxrF1x"
      },
      "source": [
        ""
      ]
    },
    {
      "cell_type": "code",
      "metadata": {
        "colab": {
          "base_uri": "https://localhost:8080/"
        },
        "id": "j3nJSXqisb82",
        "outputId": "f2462b50-11e1-48df-ed0a-dbe49d894ec0"
      },
      "source": [
        "features = ['bus_route_id',\r\n",
        "'in_out',\r\n",
        "'station_code',\r\n",
        "'date_weekday',\r\n",
        "'6~7_ride',\r\n",
        "'7~8_ride',\r\n",
        "'8~9_ride',\r\n",
        "'9~10_ride',\r\n",
        "'10~11_ride',\r\n",
        "'11~12_ride']\r\n",
        "\r\n",
        "target = ['18~20_ride']\r\n",
        "features"
      ],
      "execution_count": 28,
      "outputs": [
        {
          "output_type": "execute_result",
          "data": {
            "text/plain": [
              "['bus_route_id',\n",
              " 'in_out',\n",
              " 'station_code',\n",
              " 'date_weekday',\n",
              " '6~7_ride',\n",
              " '7~8_ride',\n",
              " '8~9_ride',\n",
              " '9~10_ride',\n",
              " '10~11_ride',\n",
              " '11~12_ride']"
            ]
          },
          "metadata": {
            "tags": []
          },
          "execution_count": 28
        }
      ]
    },
    {
      "cell_type": "code",
      "metadata": {
        "id": "mvF1WtHosxYI"
      },
      "source": [
        "X_train, X_test, Y_train = train[features], test[features], train[target]"
      ],
      "execution_count": 33,
      "outputs": []
    },
    {
      "cell_type": "code",
      "metadata": {
        "id": "JzuRVD30mSDH"
      },
      "source": [
        "model_dict = {\r\n",
        "    'linear': LinearRegression(),\r\n",
        "    'rf': RandomForestRegressor(random_state=0, n_jobs=-1),\r\n",
        "    'lgbm': lgb.LGBMRegressor(random_state=0)\r\n",
        "}"
      ],
      "execution_count": 26,
      "outputs": []
    },
    {
      "cell_type": "code",
      "metadata": {
        "colab": {
          "base_uri": "https://localhost:8080/"
        },
        "id": "kcPzDyyUrMSV",
        "outputId": "66d964ae-6a58-4b7e-8ec8-862a83306917"
      },
      "source": [
        "model_result = {}\r\n",
        "\r\n",
        "for key in model_dict.keys():\r\n",
        "  model_dict[key].fit(X_train, Y_train)\r\n",
        "\r\n",
        "  model_result[key] = model_dict[key].predict(X_test)"
      ],
      "execution_count": 35,
      "outputs": [
        {
          "output_type": "stream",
          "text": [
            "/usr/local/lib/python3.6/dist-packages/ipykernel_launcher.py:4: DataConversionWarning: A column-vector y was passed when a 1d array was expected. Please change the shape of y to (n_samples,), for example using ravel().\n",
            "  after removing the cwd from sys.path.\n"
          ],
          "name": "stderr"
        }
      ]
    },
    {
      "cell_type": "code",
      "metadata": {
        "id": "zcrfVyU7zuGk"
      },
      "source": [
        "submission = pd.read_csv('/content/drive/MyDrive/DACON/01.26 퇴근시간 버스승차인원 예측 경진대회/data/submission_sample.csv')\r\n"
      ],
      "execution_count": 36,
      "outputs": []
    },
    {
      "cell_type": "code",
      "metadata": {
        "id": "jKHcF57l0YJc"
      },
      "source": [
        "lr_submit = submission.copy()\r\n",
        "rf_submit = submission.copy()\r\n",
        "lgbm_submit = submission.copy()"
      ],
      "execution_count": 37,
      "outputs": []
    },
    {
      "cell_type": "code",
      "metadata": {
        "id": "Efhwfzhy0hjb"
      },
      "source": [
        "lr_submit['18~20_ride'] = model_result['linear']\r\n",
        "rf_submit['18~20_ride'] = model_result['rf']\r\n",
        "lgbm_submit['18~20_ride'] = model_result['lgbm']"
      ],
      "execution_count": 38,
      "outputs": []
    },
    {
      "cell_type": "code",
      "metadata": {
        "id": "rlDzPzUA01Cq"
      },
      "source": [
        "lr_submit.to_csv('lr_submit.csv', index = False)\r\n",
        "rf_submit.to_csv('rf_submit.csv', index = False)\r\n",
        "lgbm_submit.to_csv('lgbm_submit.csv', index = False)"
      ],
      "execution_count": 40,
      "outputs": []
    },
    {
      "cell_type": "code",
      "metadata": {
        "id": "WRwHFvVr0-D6"
      },
      "source": [
        ""
      ],
      "execution_count": null,
      "outputs": []
    }
  ]
}
